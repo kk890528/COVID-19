{
  "nbformat": 4,
  "nbformat_minor": 0,
  "metadata": {
    "colab": {
      "name": "RNN作業",
      "provenance": [],
      "collapsed_sections": [],
      "authorship_tag": "ABX9TyPfwtWjvdXEeXZym8vvbcJ2",
      "include_colab_link": true
    },
    "kernelspec": {
      "name": "python3",
      "display_name": "Python 3"
    }
  },
  "cells": [
    {
      "cell_type": "markdown",
      "metadata": {
        "id": "view-in-github",
        "colab_type": "text"
      },
      "source": [
        "<a href=\"https://colab.research.google.com/github/kk890528/COVID-19/blob/master/RNN%E4%BD%9C%E6%A5%AD.ipynb\" target=\"_parent\"><img src=\"https://colab.research.google.com/assets/colab-badge.svg\" alt=\"Open In Colab\"/></a>"
      ]
    },
    {
      "cell_type": "code",
      "metadata": {
        "id": "CmZs6-iRdSI1",
        "colab_type": "code",
        "colab": {}
      },
      "source": [
        "import pandas as pd\n",
        "import numpy as np\n",
        "from keras.models import Sequential\n",
        "from keras.layers import Dense, Dropout, Activation, Flatten, LSTM, TimeDistributed, RepeatVector,Embedding\n",
        "from keras.layers.normalization import BatchNormalization\n",
        "from keras.optimizers import Adam\n",
        "import matplotlib.pyplot as plt\n",
        "from tensorflow.keras.preprocessing import sequence\n",
        "%matplotlib inline"
      ],
      "execution_count": 0,
      "outputs": []
    },
    {
      "cell_type": "code",
      "metadata": {
        "id": "gjeGNh3dioFn",
        "colab_type": "code",
        "colab": {}
      },
      "source": [
        "%tensorflow_version 2.x"
      ],
      "execution_count": 0,
      "outputs": []
    },
    {
      "cell_type": "code",
      "metadata": {
        "id": "LgzG0bXQdhmt",
        "colab_type": "code",
        "colab": {}
      },
      "source": [
        "from tensorflow.keras.datasets import imdb"
      ],
      "execution_count": 0,
      "outputs": []
    },
    {
      "cell_type": "markdown",
      "metadata": {
        "id": "xcni0LGg7Rrr",
        "colab_type": "text"
      },
      "source": [
        "字改成14500"
      ]
    },
    {
      "cell_type": "code",
      "metadata": {
        "id": "XqybSHU9dhqR",
        "colab_type": "code",
        "colab": {}
      },
      "source": [
        "(x_train,y_train),(x_test,y_test)=imdb.load_data(num_words=14500)"
      ],
      "execution_count": 0,
      "outputs": []
    },
    {
      "cell_type": "code",
      "metadata": {
        "id": "LkwDBHrrdhwH",
        "colab_type": "code",
        "outputId": "e2a0c697-a4fc-4991-f740-5821ebd111d4",
        "colab": {
          "base_uri": "https://localhost:8080/",
          "height": 35
        }
      },
      "source": [
        "len(x_train)"
      ],
      "execution_count": 0,
      "outputs": [
        {
          "output_type": "execute_result",
          "data": {
            "text/plain": [
              "25000"
            ]
          },
          "metadata": {
            "tags": []
          },
          "execution_count": 19
        }
      ]
    },
    {
      "cell_type": "code",
      "metadata": {
        "id": "B8NZnLwBdhy3",
        "colab_type": "code",
        "outputId": "a41ee4d2-f547-4939-953e-f1b0d5b21eb8",
        "colab": {
          "base_uri": "https://localhost:8080/",
          "height": 35
        }
      },
      "source": [
        "len(x_test)"
      ],
      "execution_count": 0,
      "outputs": [
        {
          "output_type": "execute_result",
          "data": {
            "text/plain": [
              "25000"
            ]
          },
          "metadata": {
            "tags": []
          },
          "execution_count": 20
        }
      ]
    },
    {
      "cell_type": "markdown",
      "metadata": {
        "id": "qexQAFdzdl9L",
        "colab_type": "text"
      },
      "source": [
        "# 3.資料處理"
      ]
    },
    {
      "cell_type": "markdown",
      "metadata": {
        "id": "xSzYOevl5IlG",
        "colab_type": "text"
      },
      "source": [
        "maxlen頻率改成200字"
      ]
    },
    {
      "cell_type": "code",
      "metadata": {
        "id": "mySEzVpndlUc",
        "colab_type": "code",
        "colab": {}
      },
      "source": [
        "x_train=sequence.pad_sequences(x_train,maxlen=200)\n",
        "x_test=sequence.pad_sequences(x_test,maxlen=200)"
      ],
      "execution_count": 0,
      "outputs": []
    },
    {
      "cell_type": "markdown",
      "metadata": {
        "id": "FAdwbbgn6caE",
        "colab_type": "text"
      },
      "source": [
        "### 4.step01:打造一個函數學習機\n",
        "#### embedding也改成145000，dropout改成0.3"
      ]
    },
    {
      "cell_type": "code",
      "metadata": {
        "id": "tPl-jv-GePcN",
        "colab_type": "code",
        "colab": {}
      },
      "source": [
        "model=Sequential()"
      ],
      "execution_count": 0,
      "outputs": []
    },
    {
      "cell_type": "code",
      "metadata": {
        "id": "-1-K7bgPePgx",
        "colab_type": "code",
        "colab": {}
      },
      "source": [
        "model.add(Embedding(14500,128))#可改"
      ],
      "execution_count": 0,
      "outputs": []
    },
    {
      "cell_type": "code",
      "metadata": {
        "id": "TOHTubEgePkJ",
        "colab_type": "code",
        "colab": {}
      },
      "source": [
        "model.add(LSTM(156,dropout=0.3,recurrent_dropout=0.2))"
      ],
      "execution_count": 0,
      "outputs": []
    },
    {
      "cell_type": "code",
      "metadata": {
        "id": "J3uH1ZfifgwH",
        "colab_type": "code",
        "colab": {}
      },
      "source": [
        "model.add(Dense(1,activation='sigmoid'))"
      ],
      "execution_count": 0,
      "outputs": []
    },
    {
      "cell_type": "code",
      "metadata": {
        "id": "Ehqq0o7mePnY",
        "colab_type": "code",
        "colab": {}
      },
      "source": [
        "model.compile(loss='binary_crossentropy',optimizer='adam',metrics=['accuracy'])"
      ],
      "execution_count": 0,
      "outputs": []
    },
    {
      "cell_type": "code",
      "metadata": {
        "id": "TcvROU2ogL1-",
        "colab_type": "code",
        "outputId": "9842b966-82f4-404f-b802-823392030256",
        "colab": {
          "base_uri": "https://localhost:8080/",
          "height": 260
        }
      },
      "source": [
        "model.summary()"
      ],
      "execution_count": 0,
      "outputs": [
        {
          "output_type": "stream",
          "text": [
            "Model: \"sequential_2\"\n",
            "_________________________________________________________________\n",
            "Layer (type)                 Output Shape              Param #   \n",
            "=================================================================\n",
            "embedding_2 (Embedding)      (None, None, 128)         1856000   \n",
            "_________________________________________________________________\n",
            "lstm_2 (LSTM)                (None, 156)               177840    \n",
            "_________________________________________________________________\n",
            "dense_2 (Dense)              (None, 1)                 157       \n",
            "=================================================================\n",
            "Total params: 2,033,997\n",
            "Trainable params: 2,033,997\n",
            "Non-trainable params: 0\n",
            "_________________________________________________________________\n"
          ],
          "name": "stdout"
        }
      ]
    },
    {
      "cell_type": "code",
      "metadata": {
        "id": "TkK0RjViepQw",
        "colab_type": "code",
        "outputId": "7716a8c8-e142-4abb-ea7e-7d2188eac753",
        "colab": {
          "base_uri": "https://localhost:8080/",
          "height": 35
        }
      },
      "source": [
        "(128+128+1)*4*156"
      ],
      "execution_count": 0,
      "outputs": [
        {
          "output_type": "execute_result",
          "data": {
            "text/plain": [
              "160368"
            ]
          },
          "metadata": {
            "tags": []
          },
          "execution_count": 28
        }
      ]
    },
    {
      "cell_type": "markdown",
      "metadata": {
        "id": "lRvavt0jkYrp",
        "colab_type": "text"
      },
      "source": [
        "### 5.step02:訓練\n",
        "batch_size改成92\n",
        "\n",
        "\n",
        "\n"
      ]
    },
    {
      "cell_type": "code",
      "metadata": {
        "id": "IHDwsGxEepWz",
        "colab_type": "code",
        "outputId": "ad8010fe-3ac4-4d1a-a4fb-dd01e9ac4e75",
        "colab": {
          "base_uri": "https://localhost:8080/",
          "height": 280
        }
      },
      "source": [
        "model.fit(x_train,y_train,batch_size=92,epochs=5,validation_data=(x_test,y_test))"
      ],
      "execution_count": 0,
      "outputs": [
        {
          "output_type": "stream",
          "text": [
            "/usr/local/lib/python3.6/dist-packages/tensorflow/python/framework/indexed_slices.py:434: UserWarning: Converting sparse IndexedSlices to a dense Tensor of unknown shape. This may consume a large amount of memory.\n",
            "  \"Converting sparse IndexedSlices to a dense Tensor of unknown shape. \"\n"
          ],
          "name": "stderr"
        },
        {
          "output_type": "stream",
          "text": [
            "Train on 25000 samples, validate on 25000 samples\n",
            "Epoch 1/5\n",
            "25000/25000 [==============================] - 289s 12ms/step - loss: 0.4876 - accuracy: 0.7576 - val_loss: 0.3483 - val_accuracy: 0.8492\n",
            "Epoch 2/5\n",
            "25000/25000 [==============================] - 287s 11ms/step - loss: 0.3401 - accuracy: 0.8601 - val_loss: 0.3672 - val_accuracy: 0.8466\n",
            "Epoch 3/5\n",
            "25000/25000 [==============================] - 286s 11ms/step - loss: 0.2825 - accuracy: 0.8891 - val_loss: 0.3814 - val_accuracy: 0.8461\n",
            "Epoch 4/5\n",
            "25000/25000 [==============================] - 286s 11ms/step - loss: 0.2429 - accuracy: 0.9061 - val_loss: 0.4180 - val_accuracy: 0.8242\n",
            "Epoch 5/5\n",
            "25000/25000 [==============================] - 286s 11ms/step - loss: 0.2562 - accuracy: 0.9003 - val_loss: 0.4117 - val_accuracy: 0.8228\n"
          ],
          "name": "stdout"
        },
        {
          "output_type": "execute_result",
          "data": {
            "text/plain": [
              "<keras.callbacks.callbacks.History at 0x7f3bd339b940>"
            ]
          },
          "metadata": {
            "tags": []
          },
          "execution_count": 29
        }
      ]
    },
    {
      "cell_type": "code",
      "metadata": {
        "id": "C1EXI7JCiXWa",
        "colab_type": "code",
        "outputId": "a928e910-b9db-48f5-c3a4-ab341b9069e0",
        "colab": {
          "base_uri": "https://localhost:8080/",
          "height": 69
        }
      },
      "source": [
        "loss, score = model.evaluate(x_test, y_test)\n",
        "print(f\"loss: {loss: .4f}\\naccuracy: {score * 100: .2f}%\")"
      ],
      "execution_count": 0,
      "outputs": [
        {
          "output_type": "stream",
          "text": [
            "25000/25000 [==============================] - 91s 4ms/step\n",
            "loss:  0.4117\n",
            "accuracy:  82.28%\n"
          ],
          "name": "stdout"
        }
      ]
    },
    {
      "cell_type": "code",
      "metadata": {
        "id": "8o3zXsp2Esec",
        "colab_type": "code",
        "colab": {}
      },
      "source": [
        "predict = model.predict_classes(x_test)"
      ],
      "execution_count": 0,
      "outputs": []
    },
    {
      "cell_type": "code",
      "metadata": {
        "id": "Oyp0c3lwDg_l",
        "colab_type": "code",
        "colab": {}
      },
      "source": [
        "def pre(n):\n",
        "  print('預測答案：',predict[n],'\\n','實際答案：',y_test[n])"
      ],
      "execution_count": 0,
      "outputs": []
    },
    {
      "cell_type": "code",
      "metadata": {
        "id": "ImnlDgtoEW8C",
        "colab_type": "code",
        "outputId": "64a631eb-63d6-4a34-df49-2dde6d01eef0",
        "colab": {
          "base_uri": "https://localhost:8080/",
          "height": 52
        }
      },
      "source": [
        "pre(140)"
      ],
      "execution_count": 0,
      "outputs": [
        {
          "output_type": "stream",
          "text": [
            "預測答案： [1] \n",
            " 實際答案： 1\n"
          ],
          "name": "stdout"
        }
      ]
    }
  ]
}